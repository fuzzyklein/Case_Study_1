{
 "cells": [
  {
   "cell_type": "markdown",
   "metadata": {},
   "source": [
    "# Cleaning the Trip Files"
   ]
  },
  {
   "cell_type": "markdown",
   "metadata": {},
   "source": [
    "There are a huge amount of trip observations. I make it at about 30,000,000. The guy in the video said a couple million. I can't guarantee my count or his at the moment. The point is that they should perhaps be kept in separate files, but with consistent file and column names. The size of the dataset suggests that `Hadoop` and `Spark` could be helpful, if we decide to keep the entire volume of trip data. Given that there are many `NA`s within some of the files, sampling seems to be a preferable route."
   ]
  },
  {
   "cell_type": "code",
   "execution_count": 1,
   "metadata": {},
   "outputs": [],
   "source": [
    "from cs1.trips import *"
   ]
  },
  {
   "cell_type": "markdown",
   "metadata": {},
   "source": [
    "## Column Names"
   ]
  },
  {
   "cell_type": "markdown",
   "metadata": {},
   "source": [
    "Since I'm more familiar with `pandas` than any other data manipulation tool, it's the one I'm starting with. My goal is to get all of the data into a `mysql` database and, preferably, to have the table for the trips partitioned by month (and year). The first hurdle to overcome, of course, is the inconsistency in the column names. I'm sure there's some history as to when and why the names were changed, but none of that is really relevant. The main point is just to make sure that they are consistent within the database. The most direct way to do that is to make them consistent in their CSV files.\n",
    "\n",
    "The `unique-trip_cols` function returns all of the column names found in all of the files."
   ]
  },
  {
   "cell_type": "code",
   "execution_count": null,
   "metadata": {
    "scrolled": true
   },
   "outputs": [],
   "source": [
    "columnize(unique_trip_cols())"
   ]
  },
  {
   "cell_type": "code",
   "execution_count": null,
   "metadata": {
    "scrolled": true
   },
   "outputs": [],
   "source": [
    "consist_cols()"
   ]
  },
  {
   "cell_type": "code",
   "execution_count": null,
   "metadata": {},
   "outputs": [],
   "source": [
    "FILES = list_trip_files()"
   ]
  },
  {
   "cell_type": "code",
   "execution_count": null,
   "metadata": {
    "scrolled": true
   },
   "outputs": [],
   "source": [
    "len(FILES)"
   ]
  },
  {
   "cell_type": "code",
   "execution_count": null,
   "metadata": {},
   "outputs": [],
   "source": [
    "pp(COLS_LIST)"
   ]
  },
  {
   "cell_type": "code",
   "execution_count": null,
   "metadata": {},
   "outputs": [],
   "source": []
  },
  {
   "cell_type": "code",
   "execution_count": null,
   "metadata": {
    "scrolled": true
   },
   "outputs": [],
   "source": [
    "df = open_data_frame(FILES[1])"
   ]
  },
  {
   "cell_type": "code",
   "execution_count": null,
   "metadata": {},
   "outputs": [],
   "source": [
    "df"
   ]
  },
  {
   "cell_type": "code",
   "execution_count": null,
   "metadata": {
    "scrolled": true
   },
   "outputs": [],
   "source": [
    "cd(TEST_DIR)\n",
    "columnize(list(map(str, unique_values(\"From Station ID\"))))"
   ]
  },
  {
   "cell_type": "code",
   "execution_count": null,
   "metadata": {},
   "outputs": [],
   "source": [
    "unknown_stations = set(unique_values(\"From Station ID\")).union(unique_values(\"To Station ID\")).difference(stations.columns)"
   ]
  },
  {
   "cell_type": "code",
   "execution_count": null,
   "metadata": {},
   "outputs": [],
   "source": [
    "N = len(df)"
   ]
  },
  {
   "cell_type": "code",
   "execution_count": null,
   "metadata": {},
   "outputs": [],
   "source": [
    "len(df['ID'].unique()) == N"
   ]
  },
  {
   "cell_type": "code",
   "execution_count": null,
   "metadata": {},
   "outputs": [],
   "source": [
    "len(df['ID'].dropna()) == N"
   ]
  },
  {
   "cell_type": "code",
   "execution_count": null,
   "metadata": {
    "tags": []
   },
   "outputs": [],
   "source": [
    "df.loc[N - 1, \"Bike ID\"] - df.loc[0, \"Bike ID\"] == N"
   ]
  },
  {
   "cell_type": "code",
   "execution_count": null,
   "metadata": {},
   "outputs": [],
   "source": [
    "len(df['Bike ID'].dropna()) == N"
   ]
  },
  {
   "cell_type": "code",
   "execution_count": null,
   "metadata": {},
   "outputs": [],
   "source": [
    "len(df['Bike ID'].unique())"
   ]
  },
  {
   "cell_type": "code",
   "execution_count": null,
   "metadata": {},
   "outputs": [],
   "source": [
    "len(df['Duration'].dropna())"
   ]
  },
  {
   "cell_type": "code",
   "execution_count": null,
   "metadata": {},
   "outputs": [],
   "source": [
    "ERRORS = dict()\n",
    "ERR_INDEX = list()\n",
    "for i in COLS_LIST:\n",
    "    ERRORS[i] = list()\n",
    "\n",
    "for p in list_trip_files(src=TEST_DIR):\n",
    "    df = pd.read_csv(str(p))\n",
    "    ERR_INDEX.append(p.name)\n",
    "    for c in df.columns:\n",
    "        ERRORS[c].append(len(df[df[c].isna()]))\n",
    "    for c in set(COLS_LIST).difference(df.columns):\n",
    "        ERRORS[c].append(pd.NA)"
   ]
  },
  {
   "cell_type": "code",
   "execution_count": null,
   "metadata": {},
   "outputs": [],
   "source": [
    "errs_df = pd.DataFrame(ERRORS, index=ERR_INDEX)"
   ]
  },
  {
   "cell_type": "code",
   "execution_count": null,
   "metadata": {
    "scrolled": true,
    "tags": []
   },
   "outputs": [],
   "source": [
    "errs_df"
   ]
  },
  {
   "cell_type": "code",
   "execution_count": null,
   "metadata": {},
   "outputs": [],
   "source": [
    "errs_df.to_csv(str(BASE_DIR / 'nulls.csv'))"
   ]
  },
  {
   "cell_type": "code",
   "execution_count": null,
   "metadata": {},
   "outputs": [],
   "source": [
    "stations = pd.read_csv(CLEAN_DIR / 'stations.csv')"
   ]
  },
  {
   "cell_type": "code",
   "execution_count": null,
   "metadata": {
    "tags": []
   },
   "outputs": [],
   "source": [
    "help(pd.DataFrame.reindex)"
   ]
  },
  {
   "cell_type": "code",
   "execution_count": null,
   "metadata": {},
   "outputs": [],
   "source": [
    "stations = stations.reindex(stations['ID']).drop(columns=['ID'])"
   ]
  },
  {
   "cell_type": "code",
   "execution_count": null,
   "metadata": {},
   "outputs": [],
   "source": [
    "stations"
   ]
  },
  {
   "cell_type": "code",
   "execution_count": null,
   "metadata": {},
   "outputs": [],
   "source": [
    "stations.columns[0]"
   ]
  },
  {
   "cell_type": "code",
   "execution_count": null,
   "metadata": {},
   "outputs": [],
   "source": [
    "from collections import namedtuple"
   ]
  },
  {
   "cell_type": "code",
   "execution_count": null,
   "metadata": {},
   "outputs": [],
   "source": [
    "def stations_data():\n",
    "    stations = pd.read_csv(str(CLEAN_DIR / 'stations.csv'))\n",
    "    stations.index = stations[\"ID\"]\n",
    "    return stations.drop(columns=[\"ID\"])"
   ]
  },
  {
   "cell_type": "code",
   "execution_count": null,
   "metadata": {},
   "outputs": [],
   "source": [
    "stations = stations_data()"
   ]
  },
  {
   "cell_type": "code",
   "execution_count": null,
   "metadata": {},
   "outputs": [],
   "source": [
    "stations = None"
   ]
  },
  {
   "cell_type": "code",
   "execution_count": null,
   "metadata": {},
   "outputs": [],
   "source": [
    "missing_bikes = 0\n",
    "START_LAT = \"Start Latitude\"\n",
    "START_LNG = \"Start Longitude\"\n",
    "FROM_ID = \"From Station ID\"\n",
    "FROM_NAME = \"From Station Name\"\n",
    "\n",
    "Coordinates = namedtuple('Coordinates', [\"Latitude\", \"Longitude\"])\n",
    "\n",
    "def station_coords(i:int) -> Coordinates:\n",
    "    global stations\n",
    "    if stations is None:\n",
    "        stations = stations_data()\n",
    "    try:\n",
    "        return Coordinates(stations[\"Latitude\"][i], stations[\"Longitude\"][i])\n",
    "    except KeyError:\n",
    "        print(f\"Invalid station ID: {i}\")\n",
    "        return None\n",
    "\n",
    "NA_START_LATS = df[START_LAT].isna()\n",
    "NA_FROM_NAMES = df[FROM_NAME].isna()\n",
    "NA_FROM_IDs   = df[FROM_ID].isna()\n",
    "\n",
    "for i in df.index:\n",
    "    if i in NA_START_LATS.index:\n",
    "        if i in NA_FROM_IDs.index:\n",
    "            from_station = df[FROM_ID][i]\n",
    "        elif not i in NA_FROM_NAMES.index:\n",
    "            from_station = get_station_id(df[FROM_NAME][i])\n",
    "        else:\n",
    "            print(f\"Bad ride record, missing from station ID and name: {i}\")\n",
    "            break\n",
    "        coords = station_coords(from_station)\n",
    "        if not coords:\n",
    "            print(f\"Error getting station coordinates, line {i}.\")\n",
    "            df = df.drop(i)\n",
    "            break\n",
    "        df.loc[i, START_LAT] = coords.Latitude\n",
    "        df.loc[i, START_LNG] = coords.Longitude"
   ]
  },
  {
   "cell_type": "code",
   "execution_count": null,
   "metadata": {},
   "outputs": [],
   "source": [
    "df"
   ]
  },
  {
   "cell_type": "code",
   "execution_count": null,
   "metadata": {},
   "outputs": [],
   "source": [
    "len(df[START_LAT].isna())"
   ]
  },
  {
   "cell_type": "code",
   "execution_count": null,
   "metadata": {},
   "outputs": [],
   "source": [
    "df = df.dropna(subset=['To Station ID'])"
   ]
  },
  {
   "cell_type": "code",
   "execution_count": null,
   "metadata": {},
   "outputs": [],
   "source": [
    "print(f'Number of thefts: {len(df[df[\"To Station ID\"].isna()])}')"
   ]
  },
  {
   "cell_type": "code",
   "execution_count": null,
   "metadata": {},
   "outputs": [],
   "source": [
    "MIN_DATE = datetime(2013, 1, 1, 0, 0, 0)\n",
    "MAX_DATE = datetime(2022, 1, 31, 0, 0, 0)"
   ]
  },
  {
   "cell_type": "code",
   "execution_count": null,
   "metadata": {},
   "outputs": [],
   "source": [
    "n = 0\n",
    "for t in df['End Time']:\n",
    "    d = parse(t)\n",
    "    if d < MIN_DATE or d > MAX_DATE:\n",
    "        n += 1"
   ]
  },
  {
   "cell_type": "code",
   "execution_count": null,
   "metadata": {},
   "outputs": [],
   "source": [
    "n"
   ]
  },
  {
   "cell_type": "code",
   "execution_count": null,
   "metadata": {},
   "outputs": [],
   "source": [
    "df[\"Duration\"] = parse()"
   ]
  },
  {
   "cell_type": "code",
   "execution_count": null,
   "metadata": {},
   "outputs": [],
   "source": [
    "df.iloc[2][\"Start Time\"]"
   ]
  },
  {
   "cell_type": "code",
   "execution_count": null,
   "metadata": {},
   "outputs": [],
   "source": [
    "for i in range(len(df)):\n",
    "    df[\"Duration\"].iloc[i] = str(parse(df[\"End Time\"].iloc[i]) - parse(df[\"Start Time\"].iloc[i]))"
   ]
  },
  {
   "cell_type": "code",
   "execution_count": null,
   "metadata": {},
   "outputs": [],
   "source": [
    "df"
   ]
  },
  {
   "cell_type": "code",
   "execution_count": null,
   "metadata": {
    "scrolled": true
   },
   "outputs": [],
   "source": [
    "help(pd.Series.iloc)"
   ]
  },
  {
   "cell_type": "code",
   "execution_count": null,
   "metadata": {
    "scrolled": true
   },
   "outputs": [],
   "source": [
    "# new_df.to_csv(str(CSV_DIR / trip_files[0].name), header=False, index=False)"
   ]
  },
  {
   "cell_type": "code",
   "execution_count": null,
   "metadata": {},
   "outputs": [],
   "source": [
    "(CSV_DIR / 'header.csv').write_text(','.join(cols_2_keep))"
   ]
  },
  {
   "cell_type": "code",
   "execution_count": null,
   "metadata": {},
   "outputs": [],
   "source": [
    "cd(DATA_DIR)"
   ]
  },
  {
   "cell_type": "code",
   "execution_count": null,
   "metadata": {
    "scrolled": true
   },
   "outputs": [],
   "source": [
    "for p in [Path(f) for f in glob('*.csv') if f != '']:\n",
    "    cols_2_keep = COLS_2_KEEP\n",
    "    cols_2_keep.extend([f'\"{s}\"' for s in cols_2_keep])\n",
    "    columnize(cols_2_keep)\n",
    "    print(f'Processing file: {p.name}')\n",
    "    df = pd.read_csv(str(p))\n",
    "    print(f'{df.columns=}')\n",
    "    cols_2_drop = list(set(df.columns).difference(cols_2_keep))\n",
    "    print('Columns 2 Drop: ', cols_2_drop)\n",
    "    df = df.drop(columns=cols_2_drop).reindex(columns=cols_2_keep)\n",
    "    print('New Columns: ', df.columns)\n",
    "    df.to_csv(str(CSV_DIR / 'header.csv'), mode='a', header=False, index=False)\n",
    "    print()"
   ]
  },
  {
   "cell_type": "code",
   "execution_count": null,
   "metadata": {},
   "outputs": [],
   "source": [
    "GIANT_FILE = CSV_DIR / 'header.csv'"
   ]
  },
  {
   "cell_type": "code",
   "execution_count": null,
   "metadata": {},
   "outputs": [],
   "source": [
    "with GIANT_FILE.open() as f:\n",
    "    print(f.readline())"
   ]
  },
  {
   "cell_type": "code",
   "execution_count": null,
   "metadata": {},
   "outputs": [],
   "source": [
    "cd(CSV_DIR)\n",
    "CSV_FILES = glob('*.csv')"
   ]
  },
  {
   "cell_type": "code",
   "execution_count": null,
   "metadata": {
    "scrolled": true
   },
   "outputs": [],
   "source": [
    "CSV_FILES"
   ]
  },
  {
   "cell_type": "code",
   "execution_count": null,
   "metadata": {},
   "outputs": [],
   "source": [
    "OUTPUT_FILE = TEST_DIR / 'trips.csv'\n",
    "ATTRS_FILE = BASE_DIR / 'header.csv'\n",
    "OUTPUT_FILE.write_text(ATTRS_FILE.read_text())\n",
    "print(OUTPUT_FILE.read_text())"
   ]
  },
  {
   "cell_type": "code",
   "execution_count": null,
   "metadata": {},
   "outputs": [],
   "source": [
    "with Path(CSV_FILES[0]).open() as f:\n",
    "    s = f.readline()\n",
    "    print(s)"
   ]
  },
  {
   "cell_type": "code",
   "execution_count": null,
   "metadata": {},
   "outputs": [],
   "source": [
    "h = OUTPUT_FILE.read_text()"
   ]
  },
  {
   "cell_type": "code",
   "execution_count": null,
   "metadata": {},
   "outputs": [],
   "source": [
    "h"
   ]
  },
  {
   "cell_type": "code",
   "execution_count": null,
   "metadata": {},
   "outputs": [],
   "source": [
    "OUTPUT_FILE.write_text(h + '\\n')"
   ]
  },
  {
   "cell_type": "code",
   "execution_count": null,
   "metadata": {},
   "outputs": [],
   "source": [
    "with OUTPUT_FILE.open() as f:\n",
    "    s = f.readline().rstrip('\\n')\n",
    "s"
   ]
  },
  {
   "cell_type": "code",
   "execution_count": null,
   "metadata": {},
   "outputs": [],
   "source": [
    "p = Path(CSV_FILES[0])"
   ]
  },
  {
   "cell_type": "code",
   "execution_count": null,
   "metadata": {},
   "outputs": [],
   "source": [
    "p"
   ]
  },
  {
   "cell_type": "code",
   "execution_count": null,
   "metadata": {},
   "outputs": [],
   "source": [
    "with p.open() as f:\n",
    "    s = f.readline().rstrip('\\n')"
   ]
  },
  {
   "cell_type": "code",
   "execution_count": null,
   "metadata": {},
   "outputs": [],
   "source": [
    "s"
   ]
  },
  {
   "cell_type": "code",
   "execution_count": null,
   "metadata": {},
   "outputs": [],
   "source": [
    "s.rstrip('\\n')"
   ]
  },
  {
   "cell_type": "code",
   "execution_count": null,
   "metadata": {},
   "outputs": [],
   "source": [
    "len(re.compile(',').findall(s))"
   ]
  },
  {
   "cell_type": "code",
   "execution_count": null,
   "metadata": {},
   "outputs": [],
   "source": [
    "v = s.split(',')"
   ]
  },
  {
   "cell_type": "code",
   "execution_count": null,
   "metadata": {},
   "outputs": [],
   "source": [
    "v"
   ]
  },
  {
   "cell_type": "code",
   "execution_count": null,
   "metadata": {},
   "outputs": [],
   "source": [
    "start, end, origin, dest, user, gender, birth = v"
   ]
  },
  {
   "cell_type": "code",
   "execution_count": null,
   "metadata": {},
   "outputs": [],
   "source": [
    "birth"
   ]
  },
  {
   "cell_type": "code",
   "execution_count": null,
   "metadata": {},
   "outputs": [],
   "source": [
    "start, end, origin, dest, user, gender, birth = s.split(',')\n",
    "start = str(parse(start))\n",
    "end = str(parse(end))\n",
    "origin = int(origin.split('.')[0])\n",
    "dest = int(dest.split('.')[0])\n",
    "if birth:\n",
    "    birth = str(parse(birth).year())\n"
   ]
  },
  {
   "cell_type": "code",
   "execution_count": null,
   "metadata": {},
   "outputs": [],
   "source": [
    "print(f'{start=}')\n",
    "print(f'{end=}')\n",
    "print(f'{origin=}')\n",
    "print(f'{dest=}')\n",
    "print(f'{birth=}')"
   ]
  },
  {
   "cell_type": "code",
   "execution_count": null,
   "metadata": {},
   "outputs": [],
   "source": [
    "parse(start)"
   ]
  },
  {
   "cell_type": "code",
   "execution_count": null,
   "metadata": {},
   "outputs": [],
   "source": [
    "str(start)"
   ]
  },
  {
   "cell_type": "code",
   "execution_count": null,
   "metadata": {},
   "outputs": [],
   "source": [
    "cnx, cursor = db_connect()"
   ]
  },
  {
   "cell_type": "code",
   "execution_count": null,
   "metadata": {},
   "outputs": [],
   "source": [
    "HEADER_FILE = BASE_DIR / 'header.csv'\n",
    "SUBSCRIBER_TYPES = ['Dependent', 'Subscriber', 'member']\n",
    "CUSTOMER_TYPES = ['Customer', 'casual']\n",
    "UNIQUE_GENDERS = ['Female', 'Male']\n",
    "HEADERS = (BASE_DIR / 'header.csv').read_text().rstrip('\\n').split(',')"
   ]
  },
  {
   "cell_type": "code",
   "execution_count": null,
   "metadata": {},
   "outputs": [],
   "source": [
    "HEADERS"
   ]
  },
  {
   "cell_type": "code",
   "execution_count": null,
   "metadata": {},
   "outputs": [],
   "source": [
    "p = Path(CSV_FILES[38])\n",
    "with p.open() as f:\n",
    "    s = f.readline().rstrip('\\n')\n",
    "    start, end, origin, dest, user, gender, birth = s.split(',')\n",
    "    start = str(parse(start))\n",
    "    end = str(parse(end))\n",
    "    origin = int(origin)\n",
    "    if user:\n",
    "        user = 'Subscriber' if user == 'member' else ('Customer' if user == 'casual' else user)\n",
    "    dest = int(dest)\n",
    "    if birth:\n",
    "        birth = str(int(birth.split('.')[0]))\n",
    "    else:\n",
    "        birth = 0\n",
    "    statement = f\"\"\"INSERT INTO trips(Start_Time, End_Time, From_Station_ID, To_Station_ID, User_Type, Gender, Birth_Year) VALUES('{start}', '{end}', '{origin}', '{dest}', '{user}', '{gender}', '{birth}');\"\"\"\n",
    "    cursor.execute(statement)\n",
    "    cnx.commit()"
   ]
  },
  {
   "cell_type": "code",
   "execution_count": null,
   "metadata": {},
   "outputs": [],
   "source": [
    "cnx.commit()"
   ]
  },
  {
   "cell_type": "code",
   "execution_count": null,
   "metadata": {},
   "outputs": [],
   "source": [
    "statement = f\"\"\"INSERT INTO Authors (First, Last) VALUES('{names[0]}', '{names[-1]}');\"\"\""
   ]
  },
  {
   "cell_type": "code",
   "execution_count": null,
   "metadata": {},
   "outputs": [],
   "source": [
    "(BASE_DIR / 'header.csv').read_text().rstrip('\\n')"
   ]
  },
  {
   "cell_type": "code",
   "execution_count": null,
   "metadata": {},
   "outputs": [],
   "source": [
    "HEADERS = (BASE_DIR / 'header.csv').read_text().rstrip('\\n')\n",
    "HEADERS"
   ]
  },
  {
   "cell_type": "code",
   "execution_count": null,
   "metadata": {},
   "outputs": [],
   "source": [
    "head_frame = pd.read_csv(HEADER_FILE)"
   ]
  },
  {
   "cell_type": "code",
   "execution_count": null,
   "metadata": {},
   "outputs": [],
   "source": [
    "head_frame"
   ]
  },
  {
   "cell_type": "code",
   "execution_count": null,
   "metadata": {},
   "outputs": [],
   "source": [
    "file_frame = pd.read_csv(CSV_FILES[1], header=None)"
   ]
  },
  {
   "cell_type": "code",
   "execution_count": null,
   "metadata": {},
   "outputs": [],
   "source": [
    "file_frame"
   ]
  },
  {
   "cell_type": "code",
   "execution_count": null,
   "metadata": {
    "scrolled": true
   },
   "outputs": [],
   "source": [
    "file_frame.columns = head_frame.columns\n",
    "df = pd.concat([head_frame, file_frame])\n",
    "df"
   ]
  },
  {
   "cell_type": "code",
   "execution_count": null,
   "metadata": {},
   "outputs": [],
   "source": [
    "HEADER_FILE = BASE_DIR / 'header.csv'\n",
    "\n",
    "def read_trip_csv_frame(f):\n",
    "    h = pd.read_csv(HEADER_FILE)\n",
    "    ff = pd.read_csv(f)\n",
    "    ff.columns = h.columns\n",
    "    return pd.concat([h, ff])\n",
    "\n",
    "def unique_values(s):\n",
    "    v = list()\n",
    "    for f in CSV_FILES:\n",
    "        df = read_trip_csv_frame(f)\n",
    "        for u in df[s].dropna().unique():\n",
    "            v.append(u)\n",
    "    v = list(set(v))\n",
    "    v.sort()\n",
    "    if '' in v:\n",
    "        v = v.remove('')\n",
    "    return v"
   ]
  },
  {
   "cell_type": "code",
   "execution_count": null,
   "metadata": {},
   "outputs": [],
   "source": [
    "df = read_trip_csv_frame(CSV_FILES[4])"
   ]
  },
  {
   "cell_type": "code",
   "execution_count": null,
   "metadata": {},
   "outputs": [],
   "source": [
    "df"
   ]
  },
  {
   "cell_type": "code",
   "execution_count": null,
   "metadata": {},
   "outputs": [],
   "source": [
    "unique_values('User Type')"
   ]
  },
  {
   "cell_type": "code",
   "execution_count": null,
   "metadata": {},
   "outputs": [],
   "source": [
    "unique_values('Gender')"
   ]
  },
  {
   "cell_type": "code",
   "execution_count": null,
   "metadata": {
    "scrolled": true
   },
   "outputs": [],
   "source": [
    "unique_values('Birth Year')"
   ]
  },
  {
   "cell_type": "code",
   "execution_count": null,
   "metadata": {},
   "outputs": [],
   "source": [
    "STAGED_DIR = BASE_DIR / 'staged'\n",
    "\n",
    "OUTPUT_FILE = STAGED_DIR / 'trips.csv'"
   ]
  },
  {
   "cell_type": "code",
   "execution_count": null,
   "metadata": {
    "scrolled": true
   },
   "outputs": [],
   "source": [
    "trip_files"
   ]
  },
  {
   "cell_type": "code",
   "execution_count": null,
   "metadata": {
    "scrolled": true
   },
   "outputs": [],
   "source": [
    "cd(CSV_DIR)\n",
    "CSV_FILES = [Path(s) for s in glob('**')]\n",
    "OUTPUT_FILE.write_text(HEADER_FILE.read_text() + '\\n')\n",
    "n = 0\n",
    "with OUTPUT_FILE.open(mode='a+') as out:\n",
    "    for p in CSV_FILES:\n",
    "        print(p)\n",
    "        with p.open() as f:\n",
    "            while True:\n",
    "                s = f.readline()\n",
    "                if not s:\n",
    "                    break\n",
    "                print(s.rstrip('\\n'), file=out)\n",
    "                n += 1\n",
    "print(f'{n=}')"
   ]
  },
  {
   "cell_type": "code",
   "execution_count": null,
   "metadata": {},
   "outputs": [],
   "source": [
    "Path(OUTPUT_FILE).read_text()"
   ]
  },
  {
   "cell_type": "code",
   "execution_count": null,
   "metadata": {},
   "outputs": [],
   "source": [
    "CSV_FILES = [Path(s) for s in glob('**')]"
   ]
  },
  {
   "cell_type": "code",
   "execution_count": null,
   "metadata": {},
   "outputs": [],
   "source": []
  },
  {
   "cell_type": "code",
   "execution_count": null,
   "metadata": {},
   "outputs": [],
   "source": [
    "(TEST_DIR / 'trips.csv').write_text(HEADER_FILE.read_text() + '\\n' + CSV_FILES[12].read_text())\n"
   ]
  },
  {
   "cell_type": "code",
   "execution_count": null,
   "metadata": {},
   "outputs": [],
   "source": [
    "def check_trip_files():\n",
    "    pp(trip_files)"
   ]
  },
  {
   "cell_type": "code",
   "execution_count": null,
   "metadata": {
    "scrolled": true
   },
   "outputs": [],
   "source": [
    "check_trip_files()"
   ]
  },
  {
   "cell_type": "code",
   "execution_count": null,
   "metadata": {},
   "outputs": [],
   "source": [
    "df = pd.read_csv(CSV_FILES[12])"
   ]
  },
  {
   "cell_type": "code",
   "execution_count": null,
   "metadata": {},
   "outputs": [],
   "source": [
    "df"
   ]
  },
  {
   "cell_type": "code",
   "execution_count": null,
   "metadata": {},
   "outputs": [],
   "source": [
    "CSV_FILES[12].name"
   ]
  },
  {
   "cell_type": "code",
   "execution_count": null,
   "metadata": {},
   "outputs": [],
   "source": [
    "cd(DATA_DIR)"
   ]
  },
  {
   "cell_type": "code",
   "execution_count": null,
   "metadata": {},
   "outputs": [],
   "source": [
    "df = pd.read_csv(CSV_FILES[12].name)"
   ]
  },
  {
   "cell_type": "code",
   "execution_count": 30,
   "metadata": {},
   "outputs": [
    {
     "data": {
      "text/html": [
       "<div>\n",
       "<style scoped>\n",
       "    .dataframe tbody tr th:only-of-type {\n",
       "        vertical-align: middle;\n",
       "    }\n",
       "\n",
       "    .dataframe tbody tr th {\n",
       "        vertical-align: top;\n",
       "    }\n",
       "\n",
       "    .dataframe thead th {\n",
       "        text-align: right;\n",
       "    }\n",
       "</style>\n",
       "<table border=\"1\" class=\"dataframe\">\n",
       "  <thead>\n",
       "    <tr style=\"text-align: right;\">\n",
       "      <th></th>\n",
       "      <th>ID</th>\n",
       "      <th>Bike Type</th>\n",
       "      <th>Start Time</th>\n",
       "      <th>End Time</th>\n",
       "      <th>From Station Name</th>\n",
       "      <th>From Station ID</th>\n",
       "      <th>To Station Name</th>\n",
       "      <th>To Station ID</th>\n",
       "      <th>Start Latitude</th>\n",
       "      <th>Start Longitude</th>\n",
       "      <th>End Latitude</th>\n",
       "      <th>End Longitude</th>\n",
       "      <th>User Type</th>\n",
       "      <th>Duration</th>\n",
       "      <th>Distance (ft)</th>\n",
       "    </tr>\n",
       "  </thead>\n",
       "  <tbody>\n",
       "    <tr>\n",
       "      <th>0</th>\n",
       "      <td>46F8167220E4431F</td>\n",
       "      <td>electric_bike</td>\n",
       "      <td>2021-12-07 15:06:07</td>\n",
       "      <td>2021-12-07 15:13:42</td>\n",
       "      <td>Laflin St &amp; Cullerton St</td>\n",
       "      <td>13307</td>\n",
       "      <td>Morgan St &amp; Polk St</td>\n",
       "      <td>TA1307000130</td>\n",
       "      <td>41.854833</td>\n",
       "      <td>-87.663660</td>\n",
       "      <td>41.871969</td>\n",
       "      <td>-87.650965</td>\n",
       "      <td>member</td>\n",
       "      <td>0 days 00:07:35</td>\n",
       "      <td>7773.005521</td>\n",
       "    </tr>\n",
       "    <tr>\n",
       "      <th>1</th>\n",
       "      <td>73A77762838B32FD</td>\n",
       "      <td>electric_bike</td>\n",
       "      <td>2021-12-11 03:43:29</td>\n",
       "      <td>2021-12-11 04:10:23</td>\n",
       "      <td>LaSalle Dr &amp; Huron St</td>\n",
       "      <td>KP1705001026</td>\n",
       "      <td>Clarendon Ave &amp; Leland Ave</td>\n",
       "      <td>TA1307000119</td>\n",
       "      <td>41.894405</td>\n",
       "      <td>-87.632331</td>\n",
       "      <td>41.967968</td>\n",
       "      <td>-87.650001</td>\n",
       "      <td>casual</td>\n",
       "      <td>0 days 00:26:54</td>\n",
       "      <td>27575.504022</td>\n",
       "    </tr>\n",
       "    <tr>\n",
       "      <th>2</th>\n",
       "      <td>4CF42452054F59C5</td>\n",
       "      <td>electric_bike</td>\n",
       "      <td>2021-12-15 23:10:28</td>\n",
       "      <td>2021-12-15 23:23:14</td>\n",
       "      <td>Halsted St &amp; North Branch St</td>\n",
       "      <td>KA1504000117</td>\n",
       "      <td>Broadway &amp; Barry Ave</td>\n",
       "      <td>13137</td>\n",
       "      <td>41.899357</td>\n",
       "      <td>-87.648522</td>\n",
       "      <td>41.937582</td>\n",
       "      <td>-87.644098</td>\n",
       "      <td>member</td>\n",
       "      <td>0 days 00:12:46</td>\n",
       "      <td>14025.644540</td>\n",
       "    </tr>\n",
       "    <tr>\n",
       "      <th>3</th>\n",
       "      <td>3278BA87BF698339</td>\n",
       "      <td>classic_bike</td>\n",
       "      <td>2021-12-26 16:16:10</td>\n",
       "      <td>2021-12-26 16:30:53</td>\n",
       "      <td>Halsted St &amp; North Branch St</td>\n",
       "      <td>KA1504000117</td>\n",
       "      <td>LaSalle Dr &amp; Huron St</td>\n",
       "      <td>KP1705001026</td>\n",
       "      <td>41.899390</td>\n",
       "      <td>-87.648545</td>\n",
       "      <td>41.894877</td>\n",
       "      <td>-87.632326</td>\n",
       "      <td>member</td>\n",
       "      <td>0 days 00:14:43</td>\n",
       "      <td>6136.229807</td>\n",
       "    </tr>\n",
       "    <tr>\n",
       "      <th>4</th>\n",
       "      <td>6FF54232576A3B73</td>\n",
       "      <td>electric_bike</td>\n",
       "      <td>2021-12-30 11:31:05</td>\n",
       "      <td>2021-12-30 11:51:21</td>\n",
       "      <td>Leavitt St &amp; Chicago Ave</td>\n",
       "      <td>18058</td>\n",
       "      <td>Clark St &amp; Drummond Pl</td>\n",
       "      <td>TA1307000142</td>\n",
       "      <td>41.895579</td>\n",
       "      <td>-87.682024</td>\n",
       "      <td>41.931248</td>\n",
       "      <td>-87.644336</td>\n",
       "      <td>member</td>\n",
       "      <td>0 days 00:20:16</td>\n",
       "      <td>18913.644997</td>\n",
       "    </tr>\n",
       "    <tr>\n",
       "      <th>...</th>\n",
       "      <td>...</td>\n",
       "      <td>...</td>\n",
       "      <td>...</td>\n",
       "      <td>...</td>\n",
       "      <td>...</td>\n",
       "      <td>...</td>\n",
       "      <td>...</td>\n",
       "      <td>...</td>\n",
       "      <td>...</td>\n",
       "      <td>...</td>\n",
       "      <td>...</td>\n",
       "      <td>...</td>\n",
       "      <td>...</td>\n",
       "      <td>...</td>\n",
       "      <td>...</td>\n",
       "    </tr>\n",
       "    <tr>\n",
       "      <th>247535</th>\n",
       "      <td>847431F3D5353AB7</td>\n",
       "      <td>electric_bike</td>\n",
       "      <td>2021-12-12 13:36:55</td>\n",
       "      <td>2021-12-12 13:56:08</td>\n",
       "      <td>Canal St &amp; Madison St</td>\n",
       "      <td>13341</td>\n",
       "      <td>NaN</td>\n",
       "      <td>NaN</td>\n",
       "      <td>41.882289</td>\n",
       "      <td>-87.639752</td>\n",
       "      <td>41.890000</td>\n",
       "      <td>-87.610000</td>\n",
       "      <td>casual</td>\n",
       "      <td>0 days 00:19:13</td>\n",
       "      <td>11202.644790</td>\n",
       "    </tr>\n",
       "    <tr>\n",
       "      <th>247536</th>\n",
       "      <td>CF407BBC3B9FAD63</td>\n",
       "      <td>electric_bike</td>\n",
       "      <td>2021-12-06 19:37:50</td>\n",
       "      <td>2021-12-06 19:44:51</td>\n",
       "      <td>Canal St &amp; Madison St</td>\n",
       "      <td>13341</td>\n",
       "      <td>Kingsbury St &amp; Kinzie St</td>\n",
       "      <td>KA1503000043</td>\n",
       "      <td>41.882123</td>\n",
       "      <td>-87.640053</td>\n",
       "      <td>41.889106</td>\n",
       "      <td>-87.638862</td>\n",
       "      <td>member</td>\n",
       "      <td>0 days 00:07:01</td>\n",
       "      <td>2582.040362</td>\n",
       "    </tr>\n",
       "    <tr>\n",
       "      <th>247537</th>\n",
       "      <td>60BB69EBF5440E92</td>\n",
       "      <td>electric_bike</td>\n",
       "      <td>2021-12-02 08:57:04</td>\n",
       "      <td>2021-12-02 09:05:21</td>\n",
       "      <td>Canal St &amp; Madison St</td>\n",
       "      <td>13341</td>\n",
       "      <td>Dearborn St &amp; Monroe St</td>\n",
       "      <td>TA1305000006</td>\n",
       "      <td>41.881956</td>\n",
       "      <td>-87.639955</td>\n",
       "      <td>41.880254</td>\n",
       "      <td>-87.629603</td>\n",
       "      <td>member</td>\n",
       "      <td>0 days 00:08:17</td>\n",
       "      <td>3823.945826</td>\n",
       "    </tr>\n",
       "    <tr>\n",
       "      <th>247538</th>\n",
       "      <td>C414F654A28635B8</td>\n",
       "      <td>electric_bike</td>\n",
       "      <td>2021-12-13 09:00:26</td>\n",
       "      <td>2021-12-13 09:14:39</td>\n",
       "      <td>Lawndale Ave &amp; 16th St</td>\n",
       "      <td>362.0</td>\n",
       "      <td>NaN</td>\n",
       "      <td>NaN</td>\n",
       "      <td>41.860000</td>\n",
       "      <td>-87.720000</td>\n",
       "      <td>41.850000</td>\n",
       "      <td>-87.710000</td>\n",
       "      <td>member</td>\n",
       "      <td>0 days 00:14:13</td>\n",
       "      <td>5154.651300</td>\n",
       "    </tr>\n",
       "    <tr>\n",
       "      <th>247539</th>\n",
       "      <td>37AC57E34B2E7E97</td>\n",
       "      <td>classic_bike</td>\n",
       "      <td>2021-12-13 08:45:32</td>\n",
       "      <td>2021-12-13 08:49:09</td>\n",
       "      <td>Michigan Ave &amp; Jackson Blvd</td>\n",
       "      <td>TA1309000002</td>\n",
       "      <td>Dearborn St &amp; Monroe St</td>\n",
       "      <td>TA1305000006</td>\n",
       "      <td>41.877850</td>\n",
       "      <td>-87.624080</td>\n",
       "      <td>41.881320</td>\n",
       "      <td>-87.629521</td>\n",
       "      <td>member</td>\n",
       "      <td>0 days 00:03:37</td>\n",
       "      <td>2352.103564</td>\n",
       "    </tr>\n",
       "  </tbody>\n",
       "</table>\n",
       "<p>247540 rows × 15 columns</p>\n",
       "</div>"
      ],
      "text/plain": [
       "                      ID      Bike Type           Start Time  \\\n",
       "0       46F8167220E4431F  electric_bike  2021-12-07 15:06:07   \n",
       "1       73A77762838B32FD  electric_bike  2021-12-11 03:43:29   \n",
       "2       4CF42452054F59C5  electric_bike  2021-12-15 23:10:28   \n",
       "3       3278BA87BF698339   classic_bike  2021-12-26 16:16:10   \n",
       "4       6FF54232576A3B73  electric_bike  2021-12-30 11:31:05   \n",
       "...                  ...            ...                  ...   \n",
       "247535  847431F3D5353AB7  electric_bike  2021-12-12 13:36:55   \n",
       "247536  CF407BBC3B9FAD63  electric_bike  2021-12-06 19:37:50   \n",
       "247537  60BB69EBF5440E92  electric_bike  2021-12-02 08:57:04   \n",
       "247538  C414F654A28635B8  electric_bike  2021-12-13 09:00:26   \n",
       "247539  37AC57E34B2E7E97   classic_bike  2021-12-13 08:45:32   \n",
       "\n",
       "                   End Time             From Station Name From Station ID  \\\n",
       "0       2021-12-07 15:13:42      Laflin St & Cullerton St           13307   \n",
       "1       2021-12-11 04:10:23         LaSalle Dr & Huron St    KP1705001026   \n",
       "2       2021-12-15 23:23:14  Halsted St & North Branch St    KA1504000117   \n",
       "3       2021-12-26 16:30:53  Halsted St & North Branch St    KA1504000117   \n",
       "4       2021-12-30 11:51:21      Leavitt St & Chicago Ave           18058   \n",
       "...                     ...                           ...             ...   \n",
       "247535  2021-12-12 13:56:08         Canal St & Madison St           13341   \n",
       "247536  2021-12-06 19:44:51         Canal St & Madison St           13341   \n",
       "247537  2021-12-02 09:05:21         Canal St & Madison St           13341   \n",
       "247538  2021-12-13 09:14:39        Lawndale Ave & 16th St           362.0   \n",
       "247539  2021-12-13 08:49:09   Michigan Ave & Jackson Blvd    TA1309000002   \n",
       "\n",
       "                   To Station Name To Station ID  Start Latitude  \\\n",
       "0              Morgan St & Polk St  TA1307000130       41.854833   \n",
       "1       Clarendon Ave & Leland Ave  TA1307000119       41.894405   \n",
       "2             Broadway & Barry Ave         13137       41.899357   \n",
       "3            LaSalle Dr & Huron St  KP1705001026       41.899390   \n",
       "4           Clark St & Drummond Pl  TA1307000142       41.895579   \n",
       "...                            ...           ...             ...   \n",
       "247535                         NaN           NaN       41.882289   \n",
       "247536    Kingsbury St & Kinzie St  KA1503000043       41.882123   \n",
       "247537     Dearborn St & Monroe St  TA1305000006       41.881956   \n",
       "247538                         NaN           NaN       41.860000   \n",
       "247539     Dearborn St & Monroe St  TA1305000006       41.877850   \n",
       "\n",
       "        Start Longitude  End Latitude  End Longitude User Type  \\\n",
       "0            -87.663660     41.871969     -87.650965    member   \n",
       "1            -87.632331     41.967968     -87.650001    casual   \n",
       "2            -87.648522     41.937582     -87.644098    member   \n",
       "3            -87.648545     41.894877     -87.632326    member   \n",
       "4            -87.682024     41.931248     -87.644336    member   \n",
       "...                 ...           ...            ...       ...   \n",
       "247535       -87.639752     41.890000     -87.610000    casual   \n",
       "247536       -87.640053     41.889106     -87.638862    member   \n",
       "247537       -87.639955     41.880254     -87.629603    member   \n",
       "247538       -87.720000     41.850000     -87.710000    member   \n",
       "247539       -87.624080     41.881320     -87.629521    member   \n",
       "\n",
       "              Duration  Distance (ft)  \n",
       "0      0 days 00:07:35    7773.005521  \n",
       "1      0 days 00:26:54   27575.504022  \n",
       "2      0 days 00:12:46   14025.644540  \n",
       "3      0 days 00:14:43    6136.229807  \n",
       "4      0 days 00:20:16   18913.644997  \n",
       "...                ...            ...  \n",
       "247535 0 days 00:19:13   11202.644790  \n",
       "247536 0 days 00:07:01    2582.040362  \n",
       "247537 0 days 00:08:17    3823.945826  \n",
       "247538 0 days 00:14:13    5154.651300  \n",
       "247539 0 days 00:03:37    2352.103564  \n",
       "\n",
       "[247540 rows x 15 columns]"
      ]
     },
     "execution_count": 30,
     "metadata": {},
     "output_type": "execute_result"
    }
   ],
   "source": [
    "df"
   ]
  },
  {
   "cell_type": "code",
   "execution_count": null,
   "metadata": {},
   "outputs": [],
   "source": [
    "L = [p for p in TRIP_FILES if '2021' in p.stem]"
   ]
  },
  {
   "cell_type": "code",
   "execution_count": null,
   "metadata": {},
   "outputs": [],
   "source": [
    "df = pd.DataFrame()\n",
    "for p in L:\n",
    "    if len(df) == 0:\n",
    "        df = pd.read_csv(str(p))\n",
    "    else:\n",
    "        df = pd.concat([pd.read_csv(str(p))])"
   ]
  },
  {
   "cell_type": "code",
   "execution_count": null,
   "metadata": {},
   "outputs": [],
   "source": [
    "df"
   ]
  },
  {
   "cell_type": "code",
   "execution_count": 43,
   "metadata": {},
   "outputs": [],
   "source": [
    "df.to_csv(str(CLEAN_DIR / '2021-cyclistic-rides.csv'))"
   ]
  },
  {
   "cell_type": "code",
   "execution_count": null,
   "metadata": {},
   "outputs": [],
   "source": [
    "df[\"Duration\"] = df[\"End Time\"].map(parse) - df[\"Start Time\"].map(parse)"
   ]
  },
  {
   "cell_type": "code",
   "execution_count": 26,
   "metadata": {},
   "outputs": [
    {
     "data": {
      "text/plain": [
       "numpy.float64"
      ]
     },
     "execution_count": 26,
     "metadata": {},
     "output_type": "execute_result"
    }
   ],
   "source": [
    "type(df[\"Start Latitude\"][0])"
   ]
  },
  {
   "cell_type": "code",
   "execution_count": 40,
   "metadata": {},
   "outputs": [],
   "source": [
    "df[\"Distance (ft)\"] = round(geo_deg_2_feet(sqrt((df[\"End Latitude\"] - df[\"Start Latitude\"])**2 + (df[\"End Longitude\"] - df[\"Start Longitude\"])**2)))"
   ]
  },
  {
   "cell_type": "code",
   "execution_count": 2,
   "metadata": {},
   "outputs": [],
   "source": [
    "df = pd.read_csv(str(CLEAN_DIR / '2021-cyclistic-rides.csv'))"
   ]
  },
  {
   "cell_type": "code",
   "execution_count": 3,
   "metadata": {},
   "outputs": [
    {
     "data": {
      "text/html": [
       "<div>\n",
       "<style scoped>\n",
       "    .dataframe tbody tr th:only-of-type {\n",
       "        vertical-align: middle;\n",
       "    }\n",
       "\n",
       "    .dataframe tbody tr th {\n",
       "        vertical-align: top;\n",
       "    }\n",
       "\n",
       "    .dataframe thead th {\n",
       "        text-align: right;\n",
       "    }\n",
       "</style>\n",
       "<table border=\"1\" class=\"dataframe\">\n",
       "  <thead>\n",
       "    <tr style=\"text-align: right;\">\n",
       "      <th></th>\n",
       "      <th>Unnamed: 0</th>\n",
       "      <th>Start Latitude</th>\n",
       "      <th>Start Longitude</th>\n",
       "      <th>End Latitude</th>\n",
       "      <th>End Longitude</th>\n",
       "      <th>Distance (ft)</th>\n",
       "    </tr>\n",
       "  </thead>\n",
       "  <tbody>\n",
       "    <tr>\n",
       "      <th>count</th>\n",
       "      <td>247540.000000</td>\n",
       "      <td>247540.000000</td>\n",
       "      <td>247540.000000</td>\n",
       "      <td>247396.000000</td>\n",
       "      <td>247396.000000</td>\n",
       "      <td>247396.000000</td>\n",
       "    </tr>\n",
       "    <tr>\n",
       "      <th>mean</th>\n",
       "      <td>123769.500000</td>\n",
       "      <td>41.896822</td>\n",
       "      <td>-87.649813</td>\n",
       "      <td>41.896917</td>\n",
       "      <td>-87.649981</td>\n",
       "      <td>7187.015384</td>\n",
       "    </tr>\n",
       "    <tr>\n",
       "      <th>std</th>\n",
       "      <td>71458.787155</td>\n",
       "      <td>0.049759</td>\n",
       "      <td>0.033691</td>\n",
       "      <td>0.049730</td>\n",
       "      <td>0.033747</td>\n",
       "      <td>6546.624380</td>\n",
       "    </tr>\n",
       "    <tr>\n",
       "      <th>min</th>\n",
       "      <td>0.000000</td>\n",
       "      <td>41.640000</td>\n",
       "      <td>-87.840000</td>\n",
       "      <td>41.480000</td>\n",
       "      <td>-87.850000</td>\n",
       "      <td>0.000000</td>\n",
       "    </tr>\n",
       "    <tr>\n",
       "      <th>25%</th>\n",
       "      <td>61884.750000</td>\n",
       "      <td>41.879434</td>\n",
       "      <td>-87.667178</td>\n",
       "      <td>41.879809</td>\n",
       "      <td>-87.667429</td>\n",
       "      <td>3240.000000</td>\n",
       "    </tr>\n",
       "    <tr>\n",
       "      <th>50%</th>\n",
       "      <td>123769.500000</td>\n",
       "      <td>41.895644</td>\n",
       "      <td>-87.644135</td>\n",
       "      <td>41.895748</td>\n",
       "      <td>-87.644140</td>\n",
       "      <td>5238.000000</td>\n",
       "    </tr>\n",
       "    <tr>\n",
       "      <th>75%</th>\n",
       "      <td>185654.250000</td>\n",
       "      <td>41.928712</td>\n",
       "      <td>-87.629560</td>\n",
       "      <td>41.928712</td>\n",
       "      <td>-87.629634</td>\n",
       "      <td>9076.000000</td>\n",
       "    </tr>\n",
       "    <tr>\n",
       "      <th>max</th>\n",
       "      <td>247539.000000</td>\n",
       "      <td>42.070000</td>\n",
       "      <td>-87.520000</td>\n",
       "      <td>42.070000</td>\n",
       "      <td>-87.520000</td>\n",
       "      <td>77825.000000</td>\n",
       "    </tr>\n",
       "  </tbody>\n",
       "</table>\n",
       "</div>"
      ],
      "text/plain": [
       "          Unnamed: 0  Start Latitude  Start Longitude   End Latitude  \\\n",
       "count  247540.000000   247540.000000    247540.000000  247396.000000   \n",
       "mean   123769.500000       41.896822       -87.649813      41.896917   \n",
       "std     71458.787155        0.049759         0.033691       0.049730   \n",
       "min         0.000000       41.640000       -87.840000      41.480000   \n",
       "25%     61884.750000       41.879434       -87.667178      41.879809   \n",
       "50%    123769.500000       41.895644       -87.644135      41.895748   \n",
       "75%    185654.250000       41.928712       -87.629560      41.928712   \n",
       "max    247539.000000       42.070000       -87.520000      42.070000   \n",
       "\n",
       "       End Longitude  Distance (ft)  \n",
       "count  247396.000000  247396.000000  \n",
       "mean      -87.649981    7187.015384  \n",
       "std         0.033747    6546.624380  \n",
       "min       -87.850000       0.000000  \n",
       "25%       -87.667429    3240.000000  \n",
       "50%       -87.644140    5238.000000  \n",
       "75%       -87.629634    9076.000000  \n",
       "max       -87.520000   77825.000000  "
      ]
     },
     "execution_count": 3,
     "metadata": {},
     "output_type": "execute_result"
    }
   ],
   "source": [
    "df.describe()"
   ]
  },
  {
   "cell_type": "code",
   "execution_count": 4,
   "metadata": {},
   "outputs": [
    {
     "data": {
      "text/html": [
       "<div>\n",
       "<style scoped>\n",
       "    .dataframe tbody tr th:only-of-type {\n",
       "        vertical-align: middle;\n",
       "    }\n",
       "\n",
       "    .dataframe tbody tr th {\n",
       "        vertical-align: top;\n",
       "    }\n",
       "\n",
       "    .dataframe thead th {\n",
       "        text-align: right;\n",
       "    }\n",
       "</style>\n",
       "<table border=\"1\" class=\"dataframe\">\n",
       "  <thead>\n",
       "    <tr style=\"text-align: right;\">\n",
       "      <th></th>\n",
       "      <th>Unnamed: 0</th>\n",
       "      <th>Distance (ft)</th>\n",
       "    </tr>\n",
       "  </thead>\n",
       "  <tbody>\n",
       "    <tr>\n",
       "      <th>count</th>\n",
       "      <td>177802.000000</td>\n",
       "      <td>177781.000000</td>\n",
       "    </tr>\n",
       "    <tr>\n",
       "      <th>mean</th>\n",
       "      <td>121341.571028</td>\n",
       "      <td>7039.848915</td>\n",
       "    </tr>\n",
       "    <tr>\n",
       "      <th>std</th>\n",
       "      <td>70533.886193</td>\n",
       "      <td>6472.716295</td>\n",
       "    </tr>\n",
       "    <tr>\n",
       "      <th>min</th>\n",
       "      <td>0.000000</td>\n",
       "      <td>0.000000</td>\n",
       "    </tr>\n",
       "    <tr>\n",
       "      <th>25%</th>\n",
       "      <td>59156.250000</td>\n",
       "      <td>3118.000000</td>\n",
       "    </tr>\n",
       "    <tr>\n",
       "      <th>50%</th>\n",
       "      <td>121643.000000</td>\n",
       "      <td>5155.000000</td>\n",
       "    </tr>\n",
       "    <tr>\n",
       "      <th>75%</th>\n",
       "      <td>181271.750000</td>\n",
       "      <td>8837.000000</td>\n",
       "    </tr>\n",
       "    <tr>\n",
       "      <th>max</th>\n",
       "      <td>247539.000000</td>\n",
       "      <td>69897.000000</td>\n",
       "    </tr>\n",
       "  </tbody>\n",
       "</table>\n",
       "</div>"
      ],
      "text/plain": [
       "          Unnamed: 0  Distance (ft)\n",
       "count  177802.000000  177781.000000\n",
       "mean   121341.571028    7039.848915\n",
       "std     70533.886193    6472.716295\n",
       "min         0.000000       0.000000\n",
       "25%     59156.250000    3118.000000\n",
       "50%    121643.000000    5155.000000\n",
       "75%    181271.750000    8837.000000\n",
       "max    247539.000000   69897.000000"
      ]
     },
     "execution_count": 4,
     "metadata": {},
     "output_type": "execute_result"
    }
   ],
   "source": [
    "df[df[\"User Type\"] == 'member'].drop(columns=[\"Start Latitude\", \"Start Longitude\", \"End Latitude\", \"End Longitude\"]).describe()"
   ]
  },
  {
   "cell_type": "code",
   "execution_count": 5,
   "metadata": {},
   "outputs": [
    {
     "data": {
      "text/html": [
       "<div>\n",
       "<style scoped>\n",
       "    .dataframe tbody tr th:only-of-type {\n",
       "        vertical-align: middle;\n",
       "    }\n",
       "\n",
       "    .dataframe tbody tr th {\n",
       "        vertical-align: top;\n",
       "    }\n",
       "\n",
       "    .dataframe thead th {\n",
       "        text-align: right;\n",
       "    }\n",
       "</style>\n",
       "<table border=\"1\" class=\"dataframe\">\n",
       "  <thead>\n",
       "    <tr style=\"text-align: right;\">\n",
       "      <th></th>\n",
       "      <th>Unnamed: 0</th>\n",
       "      <th>Distance (ft)</th>\n",
       "    </tr>\n",
       "  </thead>\n",
       "  <tbody>\n",
       "    <tr>\n",
       "      <th>count</th>\n",
       "      <td>69738.000000</td>\n",
       "      <td>69615.000000</td>\n",
       "    </tr>\n",
       "    <tr>\n",
       "      <th>mean</th>\n",
       "      <td>129959.677909</td>\n",
       "      <td>7562.845335</td>\n",
       "    </tr>\n",
       "    <tr>\n",
       "      <th>std</th>\n",
       "      <td>73402.445970</td>\n",
       "      <td>6717.119711</td>\n",
       "    </tr>\n",
       "    <tr>\n",
       "      <th>min</th>\n",
       "      <td>1.000000</td>\n",
       "      <td>0.000000</td>\n",
       "    </tr>\n",
       "    <tr>\n",
       "      <th>25%</th>\n",
       "      <td>68458.500000</td>\n",
       "      <td>3638.000000</td>\n",
       "    </tr>\n",
       "    <tr>\n",
       "      <th>50%</th>\n",
       "      <td>130339.500000</td>\n",
       "      <td>5760.000000</td>\n",
       "    </tr>\n",
       "    <tr>\n",
       "      <th>75%</th>\n",
       "      <td>196713.750000</td>\n",
       "      <td>9716.000000</td>\n",
       "    </tr>\n",
       "    <tr>\n",
       "      <th>max</th>\n",
       "      <td>247535.000000</td>\n",
       "      <td>77825.000000</td>\n",
       "    </tr>\n",
       "  </tbody>\n",
       "</table>\n",
       "</div>"
      ],
      "text/plain": [
       "          Unnamed: 0  Distance (ft)\n",
       "count   69738.000000   69615.000000\n",
       "mean   129959.677909    7562.845335\n",
       "std     73402.445970    6717.119711\n",
       "min         1.000000       0.000000\n",
       "25%     68458.500000    3638.000000\n",
       "50%    130339.500000    5760.000000\n",
       "75%    196713.750000    9716.000000\n",
       "max    247535.000000   77825.000000"
      ]
     },
     "execution_count": 5,
     "metadata": {},
     "output_type": "execute_result"
    }
   ],
   "source": [
    "df[df[\"User Type\"] == 'casual'].drop(columns=[\"Start Latitude\", \"Start Longitude\", \"End Latitude\", \"End Longitude\"]).describe()"
   ]
  },
  {
   "cell_type": "code",
   "execution_count": 53,
   "metadata": {},
   "outputs": [],
   "source": [
    "ERRORS = dict()\n",
    "ERR_INDEX = list()\n",
    "for i in COLS_LIST:\n",
    "    ERRORS[i] = list()\n",
    "ERRORS[\"Distance (ft)\"] = list()\n",
    "ERRORS[\"Duration\"] = list()\n",
    "\n",
    "# df = pd.read_csv(str(p))\n",
    "# ERR_INDEX.append(p.name)\n",
    "for c in df.columns:\n",
    "    ERRORS[c].append(len(df[df[c].isna()]))\n",
    "for c in set(COLS_LIST).difference(df.columns):\n",
    "    ERRORS[c].append(pd.NA)"
   ]
  },
  {
   "cell_type": "code",
   "execution_count": 54,
   "metadata": {},
   "outputs": [],
   "source": [
    "nulls = pd.DataFrame(ERRORS)"
   ]
  },
  {
   "cell_type": "code",
   "execution_count": 55,
   "metadata": {},
   "outputs": [
    {
     "data": {
      "text/html": [
       "<div>\n",
       "<style scoped>\n",
       "    .dataframe tbody tr th:only-of-type {\n",
       "        vertical-align: middle;\n",
       "    }\n",
       "\n",
       "    .dataframe tbody tr th {\n",
       "        vertical-align: top;\n",
       "    }\n",
       "\n",
       "    .dataframe thead th {\n",
       "        text-align: right;\n",
       "    }\n",
       "</style>\n",
       "<table border=\"1\" class=\"dataframe\">\n",
       "  <thead>\n",
       "    <tr style=\"text-align: right;\">\n",
       "      <th></th>\n",
       "      <th>ID</th>\n",
       "      <th>Start Time</th>\n",
       "      <th>End Time</th>\n",
       "      <th>Bike ID</th>\n",
       "      <th>Duration</th>\n",
       "      <th>From Station ID</th>\n",
       "      <th>To Station ID</th>\n",
       "      <th>User Type</th>\n",
       "      <th>Gender</th>\n",
       "      <th>Birth Year</th>\n",
       "      <th>To Station Name</th>\n",
       "      <th>From Station Name</th>\n",
       "      <th>End Latitude</th>\n",
       "      <th>End Longitude</th>\n",
       "      <th>Start Latitude</th>\n",
       "      <th>Start Longitude</th>\n",
       "      <th>Bike Type</th>\n",
       "      <th>Distance (ft)</th>\n",
       "    </tr>\n",
       "  </thead>\n",
       "  <tbody>\n",
       "    <tr>\n",
       "      <th>0</th>\n",
       "      <td>0</td>\n",
       "      <td>0</td>\n",
       "      <td>0</td>\n",
       "      <td>&lt;NA&gt;</td>\n",
       "      <td>0</td>\n",
       "      <td>51063</td>\n",
       "      <td>53354</td>\n",
       "      <td>0</td>\n",
       "      <td>&lt;NA&gt;</td>\n",
       "      <td>&lt;NA&gt;</td>\n",
       "      <td>53354</td>\n",
       "      <td>51063</td>\n",
       "      <td>0</td>\n",
       "      <td>0</td>\n",
       "      <td>0</td>\n",
       "      <td>0</td>\n",
       "      <td>0</td>\n",
       "      <td>0</td>\n",
       "    </tr>\n",
       "  </tbody>\n",
       "</table>\n",
       "</div>"
      ],
      "text/plain": [
       "   ID  Start Time  End Time Bike ID  Duration  From Station ID  To Station ID  \\\n",
       "0   0           0         0    <NA>         0            51063          53354   \n",
       "\n",
       "   User Type Gender Birth Year  To Station Name  From Station Name  \\\n",
       "0          0   <NA>       <NA>            53354              51063   \n",
       "\n",
       "   End Latitude  End Longitude  Start Latitude  Start Longitude  Bike Type  \\\n",
       "0             0              0               0                0          0   \n",
       "\n",
       "   Distance (ft)  \n",
       "0              0  "
      ]
     },
     "execution_count": 55,
     "metadata": {},
     "output_type": "execute_result"
    }
   ],
   "source": [
    "nulls"
   ]
  },
  {
   "cell_type": "code",
   "execution_count": 52,
   "metadata": {},
   "outputs": [],
   "source": [
    "df = df.drop(df[df[\"End Latitude\"].isna()].index)"
   ]
  },
  {
   "cell_type": "code",
   "execution_count": null,
   "metadata": {},
   "outputs": [],
   "source": []
  }
 ],
 "metadata": {
  "kernelspec": {
   "display_name": "Python 3 (ipykernel)",
   "language": "python",
   "name": "python3"
  },
  "language_info": {
   "codemirror_mode": {
    "name": "ipython",
    "version": 3
   },
   "file_extension": ".py",
   "mimetype": "text/x-python",
   "name": "python",
   "nbconvert_exporter": "python",
   "pygments_lexer": "ipython3",
   "version": "3.10.0"
  }
 },
 "nbformat": 4,
 "nbformat_minor": 4
}
